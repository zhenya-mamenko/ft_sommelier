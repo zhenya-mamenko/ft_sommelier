{
 "cells": [
  {
   "cell_type": "markdown",
   "metadata": {},
   "source": [
    "# V.1 Exploring the green reds"
   ]
  },
  {
   "cell_type": "markdown",
   "metadata": {},
   "source": [
    "## a) Write a function that will plot a scatterplot matrix of your red wine data."
   ]
  },
  {
   "cell_type": "code",
   "execution_count": 5,
   "metadata": {},
   "outputs": [
    {
     "name": "stdout",
     "output_type": "stream",
     "text": [
      "<class 'pandas.core.frame.DataFrame'>\n",
      "RangeIndex: 1599 entries, 0 to 1598\n",
      "Data columns (total 12 columns):\n",
      "fixed acidity           1599 non-null float64\n",
      "volatile acidity        1599 non-null float64\n",
      "citric acid             1599 non-null float64\n",
      "residual sugar          1599 non-null float64\n",
      "chlorides               1599 non-null float64\n",
      "free sulfur dioxide     1599 non-null float64\n",
      "total sulfur dioxide    1599 non-null float64\n",
      "density                 1599 non-null float64\n",
      "pH                      1599 non-null float64\n",
      "sulphates               1599 non-null float64\n",
      "alcohol                 1599 non-null float64\n",
      "quality                 1599 non-null int64\n",
      "dtypes: float64(11), int64(1)\n",
      "memory usage: 150.0 KB\n"
     ]
    }
   ],
   "source": [
    "import pandas as pd\n",
    "df = pd.read_csv('winequality-red.csv', sep=\";\")\n",
    "df.info()"
   ]
  },
  {
   "cell_type": "code",
   "execution_count": 42,
   "metadata": {},
   "outputs": [],
   "source": [
    "import pandas as pd\n",
    "df = pd.read_csv('winequality-red.csv', sep=\";\")\n",
    "\n",
    "def plot_scatter_matrix(winedata, good_threshold, bad_threshold, save_plot=False):\n",
    "    import matplotlib.pyplot as plt\n",
    "    c = winedata.columns\n",
    "    cmap = plt.get_cmap(\"Set1\")\n",
    "    fig, axes = plt.subplots(len(c) - 1, len(c) - 1)\n",
    "    #fig.subplots_adjust(top=0.0, bottom=0.0, left=0.0, right=0.0)\n",
    "    for i in range(len(c) - 1):\n",
    "        for j in range(len(c) - 1):\n",
    "            ax = axes[i, j]\n",
    "            if (i != j):\n",
    "                y1 = winedata[winedata['quality'] < bad_threshold][c[i]]\n",
    "                x1 = winedata[winedata['quality'] < bad_threshold][c[j]]\n",
    "                y2 = winedata[winedata['quality'] > good_threshold][c[i]]\n",
    "                x2 = winedata[winedata['quality'] > good_threshold][c[j]]\n",
    "                ax.scatter(x1, y1, marker='.', s=10, linewidths=0, c=cmap(0))\n",
    "                ax.scatter(x2, y2, marker='.', s=10, linewidths=0, c=cmap(50))\n",
    "            ax.set_axis_off()\n",
    "    plt.show()\n",
    "    \n",
    "plot_scatter_matrix(df, 6, 5)"
   ]
  },
  {
   "cell_type": "code",
   "execution_count": null,
   "metadata": {},
   "outputs": [],
   "source": []
  }
 ],
 "metadata": {
  "kernelspec": {
   "display_name": "Python 2",
   "language": "python",
   "name": "python2"
  },
  "language_info": {
   "codemirror_mode": {
    "name": "ipython",
    "version": 2
   },
   "file_extension": ".py",
   "mimetype": "text/x-python",
   "name": "python",
   "nbconvert_exporter": "python",
   "pygments_lexer": "ipython2",
   "version": "2.7.10"
  }
 },
 "nbformat": 4,
 "nbformat_minor": 2
}
