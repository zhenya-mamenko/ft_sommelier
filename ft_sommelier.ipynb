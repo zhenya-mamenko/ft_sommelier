{
 "cells": [
  {
   "cell_type": "markdown",
   "metadata": {},
   "source": [
    "# V.1 Exploring the green reds"
   ]
  },
  {
   "cell_type": "markdown",
   "metadata": {},
   "source": [
    "## a) Write a function that will plot a scatterplot matrix of your red wine data."
   ]
  },
  {
   "cell_type": "code",
   "execution_count": 104,
   "metadata": {},
   "outputs": [],
   "source": [
    "def plot_scatter_matrix(winedata, good_threshold, bad_threshold, save_plot=False):\n",
    "    import matplotlib.pyplot as plt\n",
    "    import matplotlib.patches as patches\n",
    "    c = winedata.columns\n",
    "    fig, axes = plt.subplots(len(c) - 1, len(c) - 1, figsize=(15, 15))\n",
    "    fig.subplots_adjust(top=0.99, bottom=0.01, left=0.01, right=0.99, wspace=0, hspace=0)\n",
    "    for i in range(len(c) - 1):\n",
    "        for j in range(len(c) - 1):\n",
    "            ax = axes[i, j]\n",
    "            p = patches.Rectangle((0, 0), 1, 1, fill=True, transform=ax.transAxes,\n",
    "                clip_on=False, facecolor='w', zorder=0.1, edgecolor='#000000')\n",
    "            ax.add_patch(p)\n",
    "            if (i != j):\n",
    "                y1 = winedata[winedata['quality'] < bad_threshold][c[i]]\n",
    "                x1 = winedata[winedata['quality'] < bad_threshold][c[j]]\n",
    "                y2 = winedata[winedata['quality'] > good_threshold][c[i]]\n",
    "                x2 = winedata[winedata['quality'] > good_threshold][c[j]]\n",
    "                min = x1.min()\n",
    "                if (min > x2.min()):\n",
    "                    min = x2.min()\n",
    "                max = x1.max()\n",
    "                if (max < x2.max()):\n",
    "                    max = x2.max()\n",
    "                ax.set_xlim(left=min*0.95, right=max*1.05)\n",
    "                min = y1.min()\n",
    "                if (min > y2.min()):\n",
    "                    min = y2.min()\n",
    "                max = y1.max()\n",
    "                if (max < y2.max()):\n",
    "                    max = y2.max()\n",
    "                ax.set_ylim(bottom=min*0.95, top=max*1.05)\n",
    "                ax.scatter(x1, y1, marker='.', s=20, linewidths=0, c='#EC008C')\n",
    "                ax.scatter(x2, y2, marker='.', s=20, linewidths=0, c='#009E49')\n",
    "            else:\n",
    "                ax.text(0.5, 0.5, c[i].replace(' ', '\\n'), horizontalalignment='center', verticalalignment='center',\n",
    "                    transform=ax.transAxes)\n",
    "            ax.set_axis_off()\n",
    "    \n",
    "    if (save_plot):\n",
    "        fig.savefig(\"./matrix.png\")\n",
    "    else:\n",
    "       plt.show()\n"
   ]
  },
  {
   "cell_type": "markdown",
   "metadata": {},
   "source": [
    "## b) Analyze different chemical factors in red wines "
   ]
  },
  {
   "cell_type": "code",
   "execution_count": 105,
   "metadata": {},
   "outputs": [],
   "source": [
    "import pandas as pd\n",
    "df = pd.read_csv('winequality-red.csv', sep=\";\")\n",
    "plot_scatter_matrix(df, 7, 4, False)"
   ]
  },
  {
   "cell_type": "markdown",
   "metadata": {},
   "source": [
    "pH and alcohol is most useful to split wines by quality, because they perfectly visualy divided on two different zones."
   ]
  },
  {
   "cell_type": "markdown",
   "metadata": {},
   "source": [
    "# V.2 Learning to perceptron"
   ]
  },
  {
   "cell_type": "markdown",
   "metadata": {},
   "source": [
    "## a) Implement a perceptron b) Implement a function to train your perceptron"
   ]
  },
  {
   "cell_type": "code",
   "execution_count": 1,
   "metadata": {},
   "outputs": [],
   "source": [
    "import random\n",
    "random.seed(24679)\n",
    "\n",
    "def inf_generator():\n",
    "    i = 0\n",
    "    while True:\n",
    "        yield i\n",
    "        i += 1\n",
    "\n",
    "class Perceptron(object):\n",
    "    \"\"\" Perceptron with Rosenblatt perceptron learning rule and Heaviside step activation function \"\"\"\n",
    "    \n",
    "    def __init__(self, inputs_count):\n",
    "        self.w = [random.random()] * inputs_count\n",
    "        self.bias = random.random()\n",
    "        \n",
    "    def predict(self, row):\n",
    "        result = 0.0\n",
    "        for i in range(len(self.w)):\n",
    "            result += self.w[i] * row[i]\n",
    "        result += self.bias\n",
    "        return (1 if result >= 0.0 else 0)\n",
    "\n",
    "    def learn(self, data, target, epochs_count = 0, eta = 0.01):\n",
    "        \"\"\" learn function\n",
    "            @data - samples\n",
    "            @target - target values\n",
    "            @epochs_count - number of training epochs\n",
    "            @eta - learning rate (between 0.0 and 1.0)\n",
    "            \n",
    "            @return a list of (current_epoch, num_errors_at_epoch_end, [array_of_weights], bias)\n",
    "        \"\"\"\n",
    "        result = []\n",
    "        for i in inf_generator() if epochs_count == 0 else range(epochs_count):\n",
    "            errors = 0\n",
    "            for d, t in zip(data, target):\n",
    "                value = eta * (t - self.predict(d))\n",
    "                self.w += value * d\n",
    "                self.bias += value\n",
    "                errors += int(value != 0.0)\n",
    "            tuple = (i, errors, self.w, self.bias)\n",
    "            result.append(tuple);\n",
    "            if (epochs_count == 0 and errors == 0):\n",
    "                break\n",
    "        return result\n",
    "    \n",
    "       "
   ]
  },
  {
   "cell_type": "code",
   "execution_count": 2,
   "metadata": {
    "scrolled": true
   },
   "outputs": [],
   "source": [
    "good = 7\n",
    "bad = 4\n",
    "\n",
    "import pandas as pd\n",
    "df = pd.read_csv('winequality-red.csv', sep=\";\")\n",
    "\n",
    "data = df.loc[(df['quality'] > good) | (df['quality'] < bad),['pH', 'alcohol', 'quality']]\n",
    "data.loc[data['quality'] < bad, ['quality']] = 0\n",
    "data.loc[data['quality'] > good, ['quality']] = 1\n",
    "\n",
    "perceptron = Perceptron(2)\n",
    "a = perceptron.learn(data.loc[:, ['pH', 'alcohol']].values, data['quality'].values)\n"
   ]
  },
  {
   "cell_type": "markdown",
   "metadata": {},
   "source": [
    "## c) Write a function that will take the output of your perceptron training function and your red wine data and generate two plots in one figure"
   ]
  },
  {
   "cell_type": "code",
   "execution_count": null,
   "metadata": {},
   "outputs": [],
   "source": []
  }
 ],
 "metadata": {
  "kernelspec": {
   "display_name": "Python 2",
   "language": "python",
   "name": "python2"
  },
  "language_info": {
   "codemirror_mode": {
    "name": "ipython",
    "version": 2
   },
   "file_extension": ".py",
   "mimetype": "text/x-python",
   "name": "python",
   "nbconvert_exporter": "python",
   "pygments_lexer": "ipython2",
   "version": "2.7.10"
  }
 },
 "nbformat": 4,
 "nbformat_minor": 2
}
