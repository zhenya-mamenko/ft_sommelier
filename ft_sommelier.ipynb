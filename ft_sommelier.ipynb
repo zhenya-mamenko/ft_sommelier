{
 "cells": [
  {
   "cell_type": "markdown",
   "metadata": {},
   "source": [
    "# V.1 Exploring the green reds"
   ]
  },
  {
   "cell_type": "markdown",
   "metadata": {},
   "source": [
    "## a) Write a function that will plot a scatterplot matrix of your red wine data."
   ]
  },
  {
   "cell_type": "code",
   "execution_count": 55,
   "metadata": {},
   "outputs": [],
   "source": [
    "def plot_scatter_matrix(winedata, good_threshold, bad_threshold, save_plot=False):\n",
    "    import matplotlib.pyplot as plt\n",
    "    import matplotlib.patches as patches\n",
    "    c = winedata.columns\n",
    "    cmap = plt.get_cmap(\"Set2\")\n",
    "    fig, axes = plt.subplots(len(c) - 1, len(c) - 1)\n",
    "    fig.subplots_adjust(wspace=0, hspace=0)\n",
    "    for i in range(len(c) - 1):\n",
    "        for j in range(len(c) - 1):\n",
    "            ax = axes[i, j]\n",
    "            p = patches.Rectangle((0, 0), 1, 1, fill=True, transform=ax.transAxes,\n",
    "                clip_on=False, facecolor='w', zorder=0.1, edgecolor='#000000')\n",
    "            ax.add_patch(p)\n",
    "            if (i != j):\n",
    "                y1 = winedata[winedata['quality'] < bad_threshold][c[i]]\n",
    "                x1 = winedata[winedata['quality'] < bad_threshold][c[j]]\n",
    "                y2 = winedata[winedata['quality'] > good_threshold][c[i]]\n",
    "                x2 = winedata[winedata['quality'] > good_threshold][c[j]]\n",
    "                min = x1.min()\n",
    "                if (min > x2.min()):\n",
    "                    min = x2.min()\n",
    "                max = x1.max()\n",
    "                if (max < x2.max()):\n",
    "                    max = x2.max()\n",
    "                ax.set_xlim(left=min*0.95, right=max*1.05)\n",
    "                min = y1.min()\n",
    "                if (min > y2.min()):\n",
    "                    min = y2.min()\n",
    "                max = y1.max()\n",
    "                if (max < y2.max()):\n",
    "                    max = y2.max()\n",
    "                ax.set_ylim(bottom=min*0.95, top=max*1.05)\n",
    "                ax.scatter(x1, y1, marker='.', s=20, linewidths=0, c='#EC008C')\n",
    "                ax.scatter(x2, y2, marker='.', s=20, linewidths=0, c='#009E49')\n",
    "            else:\n",
    "                ax.text(0.5, 0.5, c[i], horizontalalignment='center', verticalalignment='center',\n",
    "                    transform=ax.transAxes, size='small')\n",
    "            ax.set_axis_off()\n",
    "    plt.show()\n"
   ]
  },
  {
   "cell_type": "markdown",
   "metadata": {},
   "source": [
    "## b) Analyze different chemical factors in red wines "
   ]
  },
  {
   "cell_type": "code",
   "execution_count": null,
   "metadata": {},
   "outputs": [],
   "source": [
    "import pandas as pd\n",
    "df = pd.read_csv('winequality-red.csv', sep=\";\")\n",
    "plot_scatter_matrix(df, 7, 4)"
   ]
  },
  {
   "cell_type": "markdown",
   "metadata": {},
   "source": [
    "pH and alcohol is most useful to split wines by quality, because they perfectly visualy divided on two different zones."
   ]
  },
  {
   "cell_type": "markdown",
   "metadata": {},
   "source": [
    "# V.2 Learning to perceptron"
   ]
  },
  {
   "cell_type": "markdown",
   "metadata": {},
   "source": [
    "## a) Implement a perceptron"
   ]
  },
  {
   "cell_type": "code",
   "execution_count": null,
   "metadata": {},
   "outputs": [],
   "source": []
  }
 ],
 "metadata": {
  "kernelspec": {
   "display_name": "Python 2",
   "language": "python",
   "name": "python2"
  },
  "language_info": {
   "codemirror_mode": {
    "name": "ipython",
    "version": 2
   },
   "file_extension": ".py",
   "mimetype": "text/x-python",
   "name": "python",
   "nbconvert_exporter": "python",
   "pygments_lexer": "ipython2",
   "version": "2.7.10"
  }
 },
 "nbformat": 4,
 "nbformat_minor": 2
}
