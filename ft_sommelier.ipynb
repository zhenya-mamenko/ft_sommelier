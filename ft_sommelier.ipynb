{
 "cells": [
  {
   "cell_type": "markdown",
   "metadata": {},
   "source": [
    "# V.1 Exploring the green reds"
   ]
  },
  {
   "cell_type": "markdown",
   "metadata": {},
   "source": [
    "## a) Write a function that will plot a scatterplot matrix of your red wine data."
   ]
  },
  {
   "cell_type": "code",
   "execution_count": 1,
   "metadata": {},
   "outputs": [],
   "source": [
    "def plot_scatter_matrix(winedata, good_threshold, bad_threshold, save_plot=False):\n",
    "    import matplotlib.pyplot as plt\n",
    "    import matplotlib.patches as patches\n",
    "    c = winedata.columns\n",
    "    fig, axes = plt.subplots(len(c) - 1, len(c) - 1)\n",
    "    fig.subplots_adjust(top=0.99, bottom=0.01, left=0.01, right=0.99, wspace=0, hspace=0)\n",
    "    for i in range(len(c) - 1):\n",
    "        for j in range(len(c) - 1):\n",
    "            ax = axes[i, j]\n",
    "            p = patches.Rectangle((0, 0), 1, 1, fill=True, transform=ax.transAxes,\n",
    "                clip_on=False, facecolor='w', zorder=0.1, edgecolor='#000000')\n",
    "            ax.add_patch(p)\n",
    "            if (i != j):\n",
    "                y1 = winedata[winedata['quality'] < bad_threshold][c[i]]\n",
    "                x1 = winedata[winedata['quality'] < bad_threshold][c[j]]\n",
    "                y2 = winedata[winedata['quality'] > good_threshold][c[i]]\n",
    "                x2 = winedata[winedata['quality'] > good_threshold][c[j]]\n",
    "                min = x1.min()\n",
    "                if (min > x2.min()):\n",
    "                    min = x2.min()\n",
    "                max = x1.max()\n",
    "                if (max < x2.max()):\n",
    "                    max = x2.max()\n",
    "                ax.set_xlim(left=min*0.95, right=max*1.05)\n",
    "                min = y1.min()\n",
    "                if (min > y2.min()):\n",
    "                    min = y2.min()\n",
    "                max = y1.max()\n",
    "                if (max < y2.max()):\n",
    "                    max = y2.max()\n",
    "                ax.set_ylim(bottom=min*0.95, top=max*1.05)\n",
    "                ax.scatter(x1, y1, marker='.', s=20, linewidths=0, c='#EC008C')\n",
    "                ax.scatter(x2, y2, marker='.', s=20, linewidths=0, c='#009E49')\n",
    "            else:\n",
    "                ax.text(0.5, 0.5, c[i].replace(' ', '\\n'), horizontalalignment='center', verticalalignment='center',\n",
    "                    transform=ax.transAxes, size='small')\n",
    "            ax.set_axis_off()\n",
    "    \n",
    "    if (save_plot):\n",
    "        fig.savefig(\"./matrix.png\")\n",
    "    else:\n",
    "       plt.show()\n"
   ]
  },
  {
   "cell_type": "markdown",
   "metadata": {},
   "source": [
    "## b) Analyze different chemical factors in red wines "
   ]
  },
  {
   "cell_type": "code",
   "execution_count": null,
   "metadata": {},
   "outputs": [],
   "source": [
    "import pandas as pd\n",
    "df = pd.read_csv('winequality-red.csv', sep=\";\")\n",
    "plot_scatter_matrix(df, 7, 4, False)"
   ]
  },
  {
   "cell_type": "markdown",
   "metadata": {},
   "source": [
    "pH and alcohol is most useful to split wines by quality, because they perfectly visualy divided on two different zones."
   ]
  },
  {
   "cell_type": "markdown",
   "metadata": {},
   "source": [
    "# V.2 Learning to perceptron"
   ]
  },
  {
   "cell_type": "markdown",
   "metadata": {},
   "source": [
    "## a) Implement a perceptron b) Implement a function to train your perceptron"
   ]
  },
  {
   "cell_type": "code",
   "execution_count": null,
   "metadata": {},
   "outputs": [],
   "source": [
    "import random\n",
    "random.seed(24679)\n",
    "\n",
    "def inf_generator():\n",
    "    i = 0\n",
    "    while True:\n",
    "        yield i\n",
    "        i += 1\n",
    "\n",
    "class Perceptron(object):\n",
    "    \"\"\" Perceptron with Rosenblatt perceptron learning rule and Heaviside step activation function \"\"\"\n",
    "    \n",
    "    def __init__(self, inputs_count):\n",
    "        self.w = [random.random()] * inputs_count\n",
    "        self.bias = random.random()\n",
    "        \n",
    "    def train(self, data, target, epochs_count = 0, eta = 0.01):\n",
    "        \"\"\" train function\n",
    "            @data - samples\n",
    "            @target - target values\n",
    "            @epochs_count - number of training epochs\n",
    "            @eta - learning rate (between 0.0 and 1.0)\n",
    "            \n",
    "            @return a list of (current_epoch, num_errors_at_epoch_end, [array_of_weights], bias)\n",
    "        \"\"\"\n",
    "        result = []\n",
    "        for i in inf_generator() if epochs_count == 0 else range(epochs_count):\n",
    "            errors = 0\n",
    "            for d, t in zip(data, target):\n",
    "                value = eta * (t - self.predict(d))\n",
    "                self.w += value * d\n",
    "                self.bias += value\n",
    "                errors += int(value != 0.0)\n",
    "            tuple = (i, errors, self.w, self.bias)\n",
    "            result.append(tuple);\n",
    "            if (epochs_count == 0 and errors == 0):\n",
    "                break\n",
    "        return result\n",
    "    \n",
    "    def predict(self, row):\n",
    "        result = 0.0\n",
    "        for i in range(len(self.w)):\n",
    "            result +=self.w[i] * row[i]\n",
    "        result += self.bias\n",
    "        return (1 if result >= 0.0 else 0)\n",
    "        "
   ]
  },
  {
   "cell_type": "code",
   "execution_count": 50,
   "metadata": {},
   "outputs": [
    {
     "name": "stdout",
     "output_type": "stream",
     "text": [
      "        pH  alcohol  quality\n",
      "267   3.35    12.80        1\n",
      "278   3.23    12.60        1\n",
      "390   3.56    12.90        1\n",
      "440   2.88     9.80        1\n",
      "455   3.22    13.40        1\n",
      "459   3.25     9.00        0\n",
      "481   3.15    11.70        1\n",
      "495   3.15    11.00        1\n",
      "498   3.15    11.00        1\n",
      "517   3.16     8.40        0\n",
      "588   3.72    14.00        1\n",
      "690   3.63    10.70        0\n",
      "828   3.46    12.70        1\n",
      "832   3.38     9.90        0\n",
      "899   3.48    11.00        0\n",
      "1061  3.21    12.50        1\n",
      "1090  2.98    11.80        1\n",
      "1120  3.20    13.10        1\n",
      "1202  3.35    11.70        1\n",
      "1269  3.50    14.00        1\n",
      "1299  3.50    10.90        0\n",
      "1374  3.32     9.80        0\n",
      "1403  3.23    10.00        1\n",
      "1449  3.23    11.30        1\n",
      "1469  3.31     9.70        0\n",
      "1478  3.40    10.20        0\n",
      "1505  3.55     9.95        0\n",
      "1549  3.24    11.40        1\n"
     ]
    }
   ],
   "source": [
    "import pandas as pd\n",
    "df = pd.read_csv('winequality-red.csv', sep=\";\")\n",
    "good = 7\n",
    "bad = 4\n",
    "data = df.loc[(df['quality'] > good) | (df['quality'] < bad),['pH', 'alcohol', 'quality']]\n",
    "data.loc[data['quality'] < bad, ['quality']] = 0\n",
    "data.loc[data['quality'] > good, ['quality']] = 1\n",
    "print(data)\n",
    "# perceptron = Perceptron(data.shape[1])"
   ]
  }
 ],
 "metadata": {
  "kernelspec": {
   "display_name": "Python 2",
   "language": "python",
   "name": "python2"
  },
  "language_info": {
   "codemirror_mode": {
    "name": "ipython",
    "version": 2
   },
   "file_extension": ".py",
   "mimetype": "text/x-python",
   "name": "python",
   "nbconvert_exporter": "python",
   "pygments_lexer": "ipython2",
   "version": "2.7.10"
  }
 },
 "nbformat": 4,
 "nbformat_minor": 2
}
